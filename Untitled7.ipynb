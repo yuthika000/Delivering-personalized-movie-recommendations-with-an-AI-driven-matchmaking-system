{
  "nbformat": 4,
  "nbformat_minor": 0,
  "metadata": {
    "colab": {
      "provenance": [],
      "include_colab_link": true
    },
    "kernelspec": {
      "name": "python3",
      "display_name": "Python 3"
    },
    "language_info": {
      "name": "python"
    }
  },
  "cells": [
    {
      "cell_type": "markdown",
      "metadata": {
        "id": "view-in-github",
        "colab_type": "text"
      },
      "source": [
        "<a href=\"https://colab.research.google.com/github/yuthika000/Delivering-personalized-movie-recommendations-with-an-AI-driven-matchmaking-system/blob/main/Untitled7.ipynb\" target=\"_parent\"><img src=\"https://colab.research.google.com/assets/colab-badge.svg\" alt=\"Open In Colab\"/></a>"
      ]
    },
    {
      "cell_type": "code",
      "execution_count": null,
      "metadata": {
        "colab": {
          "base_uri": "https://localhost:8080/"
        },
        "id": "MVtzFVilmJIx",
        "outputId": "b77d0782-2bd7-42e5-e421-5d9fb210022f"
      },
      "outputs": [
        {
          "output_type": "stream",
          "name": "stdout",
          "text": [
            "   user_id  movie_id     movie_name  rating\n",
            "0        1     10001          Retro     8.0\n",
            "1        2     10002  TouristFamily     9.0\n",
            "2        3     10003       Identity     9.5\n",
            "3        4     10004         Bombay     8.0\n",
            "4        5     10005         Master     8.5\n"
          ]
        }
      ],
      "source": [
        "import pandas as pd\n",
        "from sklearn.feature_extraction.text import TfidfVectorizer\n",
        "from sklearn.metrics.pairwise import cosine_similarity\n",
        "\n",
        "# Load Excel File\n",
        "file_path = 'movie.csv'\n",
        "df = pd.read_csv(file_path)\n",
        "\n",
        "# Preview data\n",
        "print(df.head())\n",
        "\n",
        "# Step 1: Vectorize genres using TF-IDF\n",
        "vectorizer = TfidfVectorizer(stop_words='english')"
      ]
    }
  ]
}